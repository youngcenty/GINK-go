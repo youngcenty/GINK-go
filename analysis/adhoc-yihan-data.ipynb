{
 "cells": [
  {
   "cell_type": "code",
   "execution_count": 12,
   "id": "1ce609f7-3139-467c-8f35-8fee6a20eac8",
   "metadata": {
    "tags": []
   },
   "outputs": [],
   "source": [
    "import numpy as np\n",
    "import pandas as pd\n",
    "import matplotlib.pyplot as plt\n",
    "import seaborn as sns\n",
    "import ast\n",
    "import scipy.stats as stats\n",
    "import statsmodels.api as sm\n",
    "from scipy.stats import mannwhitneyu\n",
    "pd.options.display.max_columns = 999\n",
    "pd.options.display.max_rows = 999\n",
    "import warnings\n",
    "import re\n",
    "warnings.filterwarnings('ignore')\n",
    "%matplotlib inline"
   ]
  },
  {
   "cell_type": "code",
   "execution_count": 20,
   "id": "dd7a40a2-561c-447b-a747-39a4f9a703cf",
   "metadata": {
    "tags": []
   },
   "outputs": [
    {
     "data": {
      "text/html": [
       "<div>\n",
       "<style scoped>\n",
       "    .dataframe tbody tr th:only-of-type {\n",
       "        vertical-align: middle;\n",
       "    }\n",
       "\n",
       "    .dataframe tbody tr th {\n",
       "        vertical-align: top;\n",
       "    }\n",
       "\n",
       "    .dataframe thead th {\n",
       "        text-align: right;\n",
       "    }\n",
       "</style>\n",
       "<table border=\"1\" class=\"dataframe\">\n",
       "  <thead>\n",
       "    <tr style=\"text-align: right;\">\n",
       "      <th></th>\n",
       "      <th>gene</th>\n",
       "      <th>off-period</th>\n",
       "      <th>on-period</th>\n",
       "      <th>off-mean</th>\n",
       "      <th>on-mean</th>\n",
       "      <th>K-off-rate</th>\n",
       "      <th>K-on-rate</th>\n",
       "      <th>off-median</th>\n",
       "      <th>on-median</th>\n",
       "      <th>off-period-counts</th>\n",
       "      <th>on-period-counts</th>\n",
       "      <th>TATA_group</th>\n",
       "      <th>inr_group</th>\n",
       "      <th>chr_x</th>\n",
       "      <th>strand_x</th>\n",
       "      <th>TSS</th>\n",
       "      <th>geneID</th>\n",
       "      <th>TATA +</th>\n",
       "      <th>YY1 +</th>\n",
       "      <th>SP +</th>\n",
       "      <th>SP -</th>\n",
       "      <th>ETS +</th>\n",
       "      <th>ETS -</th>\n",
       "      <th>NFY +</th>\n",
       "      <th>NFY -</th>\n",
       "      <th>CREB +</th>\n",
       "      <th>CREB -</th>\n",
       "      <th>NRF1 +</th>\n",
       "      <th>NRF1 -</th>\n",
       "      <th>ZNF143 +</th>\n",
       "      <th>ZNF143 -</th>\n",
       "      <th>U1 snRNP +</th>\n",
       "      <th>chr_y</th>\n",
       "      <th>start</th>\n",
       "      <th>end</th>\n",
       "      <th>strand_y</th>\n",
       "      <th>gene_id</th>\n",
       "      <th>transcript_id</th>\n",
       "      <th>distance2tss</th>\n",
       "      <th>celltype</th>\n",
       "      <th>strand</th>\n",
       "      <th>H3K27me3_tss</th>\n",
       "      <th>cluster</th>\n",
       "      <th>gene_type</th>\n",
       "      <th>comment</th>\n",
       "    </tr>\n",
       "  </thead>\n",
       "  <tbody>\n",
       "    <tr>\n",
       "      <th>0</th>\n",
       "      <td>LUZP1</td>\n",
       "      <td>[213, 55, 11, 40]</td>\n",
       "      <td>[7, 7, 2]</td>\n",
       "      <td>79.75</td>\n",
       "      <td>5.333333</td>\n",
       "      <td>0.1875</td>\n",
       "      <td>0.012539</td>\n",
       "      <td>47.5</td>\n",
       "      <td>7.0</td>\n",
       "      <td>4</td>\n",
       "      <td>3</td>\n",
       "      <td>without_TATA</td>\n",
       "      <td>without_inr</td>\n",
       "      <td>chr1</td>\n",
       "      <td>-</td>\n",
       "      <td>23178121.0</td>\n",
       "      <td>ENSG00000169641.9</td>\n",
       "      <td>0.009</td>\n",
       "      <td>0.011</td>\n",
       "      <td>-0.126</td>\n",
       "      <td>-0.16</td>\n",
       "      <td>-0.028</td>\n",
       "      <td>-0.07</td>\n",
       "      <td>0.045</td>\n",
       "      <td>0.065</td>\n",
       "      <td>0.498</td>\n",
       "      <td>0.435</td>\n",
       "      <td>-0.004</td>\n",
       "      <td>0.001</td>\n",
       "      <td>-0.001</td>\n",
       "      <td>-0.067</td>\n",
       "      <td>0.186</td>\n",
       "      <td>chr1</td>\n",
       "      <td>23084023.0</td>\n",
       "      <td>23177808.0</td>\n",
       "      <td>-</td>\n",
       "      <td>ENSG00000169641</td>\n",
       "      <td>NaN</td>\n",
       "      <td>313.0</td>\n",
       "      <td>HBEC</td>\n",
       "      <td>-</td>\n",
       "      <td>0.0</td>\n",
       "      <td>cluster0</td>\n",
       "      <td>simple</td>\n",
       "      <td>NaN</td>\n",
       "    </tr>\n",
       "  </tbody>\n",
       "</table>\n",
       "</div>"
      ],
      "text/plain": [
       "    gene         off-period  on-period  off-mean   on-mean  K-off-rate  \\\n",
       "0  LUZP1  [213, 55, 11, 40]  [7, 7, 2]     79.75  5.333333      0.1875   \n",
       "\n",
       "   K-on-rate  off-median  on-median  off-period-counts  on-period-counts  \\\n",
       "0   0.012539        47.5        7.0                  4                 3   \n",
       "\n",
       "     TATA_group    inr_group chr_x strand_x         TSS             geneID  \\\n",
       "0  without_TATA  without_inr  chr1        -  23178121.0  ENSG00000169641.9   \n",
       "\n",
       "   TATA +  YY1 +   SP +  SP -  ETS +  ETS -  NFY +  NFY -  CREB +  CREB -  \\\n",
       "0   0.009  0.011 -0.126 -0.16 -0.028  -0.07  0.045  0.065   0.498   0.435   \n",
       "\n",
       "   NRF1 +  NRF1 -  ZNF143 +  ZNF143 -  U1 snRNP + chr_y       start  \\\n",
       "0  -0.004   0.001    -0.001    -0.067       0.186  chr1  23084023.0   \n",
       "\n",
       "          end strand_y          gene_id  transcript_id  distance2tss celltype  \\\n",
       "0  23177808.0        -  ENSG00000169641            NaN         313.0     HBEC   \n",
       "\n",
       "  strand  H3K27me3_tss   cluster gene_type comment  \n",
       "0      -           0.0  cluster0    simple     NaN  "
      ]
     },
     "execution_count": 20,
     "metadata": {},
     "output_type": "execute_result"
    }
   ],
   "source": [
    "df = pd.read_csv(\"genes/combined-gene-on-off.csv\")\n",
    "df.head(1)"
   ]
  },
  {
   "cell_type": "code",
   "execution_count": 21,
   "id": "60fc84a5-6e00-4b8c-ada3-d3d86ec7efb1",
   "metadata": {
    "tags": []
   },
   "outputs": [
    {
     "data": {
      "text/plain": [
       "41"
      ]
     },
     "execution_count": 21,
     "metadata": {},
     "output_type": "execute_result"
    }
   ],
   "source": [
    "genes = set(df[df.celltype==\"HBEC\"][\"gene\"])\n",
    "len(genes)"
   ]
  },
  {
   "cell_type": "code",
   "execution_count": 22,
   "id": "248f0747-5a9a-44ed-a636-008991b9fae5",
   "metadata": {
    "tags": []
   },
   "outputs": [],
   "source": [
    "d1 = pd.read_csv(f\"~/projects/transcriptome_4D/data/gene_property/HBEC_H3K27me3_genebody.tab\", header=None, sep='\\t',\n",
    "                          names=[\"gene\", \"size\", \"covered\", \"total\", \"mean0\", \"HBEC_H3K27me3_genebody\"])\n",
    "\n",
    "d2 = pd.read_csv(f\"~/projects/transcriptome_4D/data/gene_property/HBEC_H3K27me3_tss.tab\", header=None, sep='\\t',\n",
    "                          names=[\"gene\", \"size\", \"covered\", \"total\", \"mean0\", \"HBEC_H3K27me3_tss\"])"
   ]
  },
  {
   "cell_type": "code",
   "execution_count": 23,
   "id": "da54b0c5-80eb-43b1-b3e6-2e5f3a79b13d",
   "metadata": {
    "tags": []
   },
   "outputs": [],
   "source": [
    "df = pd.merge(d1[[\"gene\", \"HBEC_H3K27me3_genebody\"]], \n",
    "              d2[[\"gene\", \"HBEC_H3K27me3_tss\"]],\n",
    "             on=\"gene\")\n",
    "df[\"with-tracing-data\"] = df[\"gene\"].isin(genes)"
   ]
  },
  {
   "cell_type": "code",
   "execution_count": 30,
   "id": "fee63186-4f30-400b-b3c6-d4a103210f2e",
   "metadata": {
    "tags": []
   },
   "outputs": [],
   "source": [
    "df = df.sort_values([\"with-tracing-data\", \"HBEC_H3K27me3_tss\"], ascending=False)"
   ]
  },
  {
   "cell_type": "code",
   "execution_count": 31,
   "id": "e7d185db-3838-4f42-a005-b42cee4471c1",
   "metadata": {
    "tags": []
   },
   "outputs": [],
   "source": [
    "df.to_csv(\"HBEC_H3K27me3_signal.csv\", index=False)"
   ]
  },
  {
   "cell_type": "code",
   "execution_count": null,
   "id": "61b849f3-6b20-4f73-87a7-c6a90a846965",
   "metadata": {},
   "outputs": [],
   "source": []
  },
  {
   "cell_type": "code",
   "execution_count": 38,
   "id": "7664fe13-e8ab-42d4-94fa-b7344ac1b2e3",
   "metadata": {
    "tags": []
   },
   "outputs": [],
   "source": [
    "df = pd.read_csv(\"genes/combined-gene-on-off.csv\")\n",
    "genes = set(df[df.celltype==\"H9D0\"][\"gene\"])\n",
    "\n",
    "d1 = pd.read_csv(f\"~/projects/transcriptome_4D/data/gene_property/ESC_D0_H3K27me3_genebody.tab\", header=None, sep='\\t',\n",
    "                          names=[\"gene\", \"size\", \"covered\", \"total\", \"mean0\", \"H9D0_H3K27me3_genebody\"])\n",
    "\n",
    "d2 = pd.read_csv(f\"~/projects/transcriptome_4D/data/gene_property/ESC_D0_H3K27me3_tss.tab\", header=None, sep='\\t',\n",
    "                          names=[\"gene\", \"size\", \"covered\", \"total\", \"mean0\", \"H9D0_H3K27me3_tss\"])\n",
    "df = pd.merge(d1[[\"gene\", \"H9D0_H3K27me3_genebody\"]], \n",
    "              d2[[\"gene\", \"H9D0_H3K27me3_tss\"]],\n",
    "             on=\"gene\")\n",
    "df[\"with-tracing-data\"] = df[\"gene\"].isin(genes)\n",
    "df = df.sort_values([\"with-tracing-data\", \"H9D0_H3K27me3_tss\"], ascending=False)\n",
    "df.to_csv(\"H9D0_H3K27me3_signal.csv\", index=False)"
   ]
  },
  {
   "cell_type": "code",
   "execution_count": 39,
   "id": "75981a20-5102-4931-a82f-9b8b51618aa5",
   "metadata": {
    "tags": []
   },
   "outputs": [],
   "source": [
    "df = pd.read_csv(\"genes/combined-gene-on-off.csv\")\n",
    "genes = set(df[df.celltype==\"H9D3\"][\"gene\"])\n",
    "\n",
    "d1 = pd.read_csv(f\"~/projects/transcriptome_4D/data/gene_property/ESC_D3_H3K27me3_genebody.tab\", header=None, sep='\\t',\n",
    "                          names=[\"gene\", \"size\", \"covered\", \"total\", \"mean0\", \"H9D3_H3K27me3_genebody\"])\n",
    "\n",
    "d2 = pd.read_csv(f\"~/projects/transcriptome_4D/data/gene_property/ESC_D3_H3K27me3_tss.tab\", header=None, sep='\\t',\n",
    "                          names=[\"gene\", \"size\", \"covered\", \"total\", \"mean0\", \"H9D3_H3K27me3_tss\"])\n",
    "df = pd.merge(d1[[\"gene\", \"H9D3_H3K27me3_genebody\"]], \n",
    "              d2[[\"gene\", \"H9D3_H3K27me3_tss\"]],\n",
    "             on=\"gene\")\n",
    "df[\"with-tracing-data\"] = df[\"gene\"].isin(genes)\n",
    "df = df.sort_values([\"with-tracing-data\", \"H9D3_H3K27me3_tss\"], ascending=False)\n",
    "df.to_csv(\"H9D3_H3K27me3_signal.csv\", index=False)"
   ]
  },
  {
   "cell_type": "code",
   "execution_count": null,
   "id": "c22959fb-9d1c-46b1-9a9c-54d2769143bb",
   "metadata": {},
   "outputs": [],
   "source": []
  }
 ],
 "metadata": {
  "kernelspec": {
   "display_name": "Python 3 (ipykernel)",
   "language": "python",
   "name": "python3"
  },
  "language_info": {
   "codemirror_mode": {
    "name": "ipython",
    "version": 3
   },
   "file_extension": ".py",
   "mimetype": "text/x-python",
   "name": "python",
   "nbconvert_exporter": "python",
   "pygments_lexer": "ipython3",
   "version": "3.10.8"
  }
 },
 "nbformat": 4,
 "nbformat_minor": 5
}
